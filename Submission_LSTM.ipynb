{
  "nbformat": 4,
  "nbformat_minor": 0,
  "metadata": {
    "colab": {
      "name": "Submission LSTM.ipynb",
      "provenance": [],
      "collapsed_sections": []
    },
    "kernelspec": {
      "name": "python3",
      "display_name": "Python 3"
    },
    "language_info": {
      "name": "python"
    },
    "accelerator": "GPU",
    "gpuClass": "standard"
  },
  "cells": [
    {
      "cell_type": "markdown",
      "source": [
        "**Nama : Wahyu Bagus Wicaksono**\n",
        "\n",
        "**Grup : M07**"
      ],
      "metadata": {
        "id": "fubVTHWdb3bM"
      }
    },
    {
      "cell_type": "markdown",
      "source": [
        "Import Semua Library yang dibutuhkan"
      ],
      "metadata": {
        "id": "-9BfP5zUcAMQ"
      }
    },
    {
      "cell_type": "code",
      "execution_count": 1,
      "metadata": {
        "id": "SY9lI567Clx5"
      },
      "outputs": [],
      "source": [
        "import numpy as np\n",
        "import pandas as pd\n",
        "from keras.layers import Dense, LSTM, Bidirectional\n",
        "import matplotlib.pyplot as plt\n",
        "import tensorflow as tf\n",
        "from sklearn.model_selection import train_test_split\n",
        "from sklearn import preprocessing"
      ]
    },
    {
      "cell_type": "markdown",
      "source": [
        "Menampilkan Data dari CSV dan mengubah tipedata dari Date ke datetime dan Volume ke float\n",
        "\n",
        "Data yang digunakan : https://www.kaggle.com/datasets/varpit94/apple-stock-data-updated-till-22jun2021"
      ],
      "metadata": {
        "id": "01zYi0cocAlG"
      }
    },
    {
      "cell_type": "code",
      "source": [
        "data_train = pd.read_csv('AAPL.csv')\n",
        "# data_train.head(100)\n",
        "data_train['Date'] =  pd.to_datetime(data_train['Date'])\n",
        "data_train['Volume'] = data_train['Volume'].astype(float)\n",
        "\n",
        "df = pd.DataFrame(data_train)\n",
        "df\n",
        "\n",
        "print(df.dtypes)"
      ],
      "metadata": {
        "colab": {
          "base_uri": "https://localhost:8080/"
        },
        "id": "eAZuSSKrC4UO",
        "outputId": "985895b8-7993-417f-e03a-28b5aa372428"
      },
      "execution_count": 36,
      "outputs": [
        {
          "output_type": "stream",
          "name": "stdout",
          "text": [
            "Date         datetime64[ns]\n",
            "Open                float64\n",
            "High                float64\n",
            "Low                 float64\n",
            "Close               float64\n",
            "Adj Close           float64\n",
            "Volume              float64\n",
            "dtype: object\n"
          ]
        }
      ]
    },
    {
      "cell_type": "markdown",
      "source": [
        "Menampilkan plot dari data High dengan sumbu X yaitu date dan Y adalah price"
      ],
      "metadata": {
        "id": "k3NLUvcRcLzU"
      }
    },
    {
      "cell_type": "code",
      "source": [
        "dates = data_train['Date'].values\n",
        "high = data_train['High'].values\n",
        "\n",
        "\n",
        "plt.figure(figsize=(15,5))\n",
        "plt.plot(dates, high)\n",
        "plt.title('All Time High 1980 - 2020',\n",
        "          fontsize=20)\n",
        "plt.xlabel('Date')\n",
        "plt.ylabel('Price')"
      ],
      "metadata": {
        "colab": {
          "base_uri": "https://localhost:8080/",
          "height": 373
        },
        "id": "pkRhDkEGDsBP",
        "outputId": "0bdeaad9-9e9d-4e6b-b4a6-daa82fc12fbb"
      },
      "execution_count": 60,
      "outputs": [
        {
          "output_type": "execute_result",
          "data": {
            "text/plain": [
              "Text(0, 0.5, 'Price')"
            ]
          },
          "metadata": {},
          "execution_count": 60
        },
        {
          "output_type": "display_data",
          "data": {
            "text/plain": [
              "<Figure size 1080x360 with 1 Axes>"
            ],
            "image/png": "[encoded data removed]"
          },
          "metadata": {
            "needs_background": "light"
          }
        }
      ]
    },
    {
      "cell_type": "markdown",
      "source": [
        "Membuat varibel yang digunakan untuk training data"
      ],
      "metadata": {
        "id": "ylIJS1a1cW8G"
      }
    },
    {
      "cell_type": "code",
      "source": [
        "cols = list(df)[1:7]\n",
        "df_cols = df[cols].astype(float)"
      ],
      "metadata": {
        "id": "NiClfBzZYRlS",
        "colab": {
          "base_uri": "https://localhost:8080/"
        },
        "outputId": "7afdb6c2-c0eb-408a-da9c-c266a8a1ffcf"
      },
      "execution_count": 41,
      "outputs": [
        {
          "output_type": "stream",
          "name": "stdout",
          "text": [
            "             Open        High         Low       Close   Adj Close       Volume\n",
            "0        0.128348    0.128906    0.128348    0.128348    0.100323  469033600.0\n",
            "1        0.122210    0.122210    0.121652    0.121652    0.095089  175884800.0\n",
            "2        0.113281    0.113281    0.112723    0.112723    0.088110  105728000.0\n",
            "3        0.115513    0.116071    0.115513    0.115513    0.090291   86441600.0\n",
            "4        0.118862    0.119420    0.118862    0.118862    0.092908   73449600.0\n",
            "...           ...         ...         ...         ...         ...          ...\n",
            "10404  160.509995  164.479996  159.759995  163.979996  163.979996  123351200.0\n",
            "10405  163.509995  166.350006  163.009995  165.380005  165.380005   95811400.0\n",
            "10406  165.509995  169.419998  164.910004  168.820007  168.820007   81532000.0\n",
            "10407  167.990005  172.639999  167.649994  170.210007  170.210007   98062700.0\n",
            "10408  171.059998  174.139999  170.210007  174.070007  174.070007   90018700.0\n",
            "\n",
            "[10409 rows x 6 columns]\n"
          ]
        }
      ]
    },
    {
      "cell_type": "markdown",
      "source": [
        "Menormalisasikan data dengan StandardScaler selain dengan StandardScaler kita juga bisa menggunakan MinMaxScaler"
      ],
      "metadata": {
        "id": "HoM7zLD_cdqd"
      }
    },
    {
      "cell_type": "code",
      "source": [
        "scaler = preprocessing.StandardScaler()\n",
        "scalerData = scaler.fit(df_cols)\n",
        "df_cols_scale = scalerData.transform(df_cols)"
      ],
      "metadata": {
        "id": "8DFiGhPyGSWA",
        "colab": {
          "base_uri": "https://localhost:8080/"
        },
        "outputId": "d3f03c06-bb28-463f-bd39-7f5c812fd5d3"
      },
      "execution_count": 44,
      "outputs": [
        {
          "output_type": "stream",
          "name": "stdout",
          "text": [
            "[[-0.45848767 -0.45825848 -0.45857038 -0.45837351 -0.44300062  0.4033258 ]\n",
            " [-0.45869113 -0.45847792 -0.45879483 -0.4585953  -0.44317562 -0.4606092 ]\n",
            " [-0.45898711 -0.45877055 -0.45909412 -0.45889106 -0.44340895 -0.66736739]\n",
            " ...\n",
            " [ 5.02357192  5.08982943  5.06478366  5.1292477   5.19796907 -0.73867511]\n",
            " [ 5.10577912  5.19535683  5.15662601  5.17528906  5.2444423  -0.6899577 ]\n",
            " [ 5.20754304  5.24451554  5.24243567  5.30314492  5.37349744 -0.71366406]]\n"
          ]
        }
      ]
    },
    {
      "cell_type": "markdown",
      "source": [
        "Merubah array dates ke tipe data float32 dan array high ke tipe data float32"
      ],
      "metadata": {
        "id": "4-exI5c5clIW"
      }
    },
    {
      "cell_type": "code",
      "source": [
        "dates = np.asarray(dates).astype('float32')\n",
        "high = np.asarray(high).astype('float32')\n"
      ],
      "metadata": {
        "id": "y9O77Nt5G7Xm",
        "colab": {
          "base_uri": "https://localhost:8080/"
        },
        "outputId": "e8a300e9-6dcd-41e6-c01e-33f9d77d10fb"
      },
      "execution_count": 58,
      "outputs": [
        {
          "output_type": "stream",
          "name": "stdout",
          "text": [
            "[3.4542721e+17 3.4568639e+17 3.4577280e+17 ... 1.6479072e+18 1.6479937e+18\n",
            " 1.6480800e+18]\n"
          ]
        }
      ]
    },
    {
      "cell_type": "markdown",
      "source": [
        "Melakukan reshape terhadap array trainX dan trainY"
      ],
      "metadata": {
        "id": "DoFVG5MEcza-"
      }
    },
    {
      "cell_type": "code",
      "source": [
        "trainX = []\n",
        "trainY = []\n",
        "\n",
        "n_f = 2 #Jumlah hari yang digunakan untuk memprediksi masa depan dari hari N\n",
        "n_past = 3 #Jumlah hari kemaren yang digunakan untuk memprediksi masa depan dari hari N\n",
        "\n",
        "for i in range(n_past, len(df_cols_scale) - n_f+1):\n",
        "  trainX.append(df_cols_scale[i - n_past:i, 0:df_cols.shape[1]])\n",
        "  trainY.append(df_cols_scale[i + n_f - 1:i + n_f,0])\n",
        "\n",
        "trainX, trainY = np.array(trainX), np.array(trainY)\n",
        "\n",
        "print(trainX.shape, trainY.shape)\n"
      ],
      "metadata": {
        "id": "ICqqw8I0FiLD",
        "colab": {
          "base_uri": "https://localhost:8080/"
        },
        "outputId": "ad62b5c2-e470-4fd7-9a94-ef75a91f97fe"
      },
      "execution_count": 61,
      "outputs": [
        {
          "output_type": "stream",
          "name": "stdout",
          "text": [
            "(10405, 3, 6) (10405, 1)\n"
          ]
        }
      ]
    },
    {
      "cell_type": "markdown",
      "source": [
        "Membangun model Sequential dengan LSTM"
      ],
      "metadata": {
        "id": "AWId8gJzdilK"
      }
    },
    {
      "cell_type": "code",
      "source": [
        "model = tf.keras.models.Sequential([\n",
        "  tf.keras.layers.LSTM(256, activation='relu', return_sequences=True),\n",
        "  tf.keras.layers.LSTM(128, activation='relu'),\n",
        "  tf.keras.layers.Dropout(0.4),\n",
        "  tf.keras.layers.Dense(30, activation=\"relu\"),\n",
        "  tf.keras.layers.Dense(10, activation=\"relu\"),\n",
        "  tf.keras.layers.Dropout(0.5),\n",
        "  tf.keras.layers.Dense(1),\n",
        "])\n"
      ],
      "metadata": {
        "id": "M4y1s2z2Wn7g"
      },
      "execution_count": 62,
      "outputs": []
    },
    {
      "cell_type": "markdown",
      "source": [
        "Membuat callbacks, jika MAE sudah dibawah 10%, maka train model akan berhenti"
      ],
      "metadata": {
        "id": "qNkUd1GednPZ"
      }
    },
    {
      "cell_type": "code",
      "source": [
        "# Berhenti ketika MAE dibawah 10%\n",
        "class myCallback(tf.keras.callbacks.Callback):\n",
        "  def on_epoch_end(self, epoch, logs={}):\n",
        "    if(logs.get('mae')< 0.1):\n",
        "      print(\"\\nMAE kurang dari 10%\")\n",
        "      self.model.stop_training = True\n",
        "\n",
        "callbacks = myCallback()"
      ],
      "metadata": {
        "id": "9BRgI6tnHqSo"
      },
      "execution_count": 63,
      "outputs": []
    },
    {
      "cell_type": "markdown",
      "source": [
        "Latih model dengan mode.fit dan menyimpannya ke dalam variabel history guna memudahkan proses plotting"
      ],
      "metadata": {
        "id": "g3Fdccufdu9C"
      }
    },
    {
      "cell_type": "code",
      "source": [
        "optimizer = tf.keras.optimizers.SGD(learning_rate=1.0000e-04, momentum=0.9)\n",
        "model.compile(loss=tf.keras.losses.Huber(),\n",
        "              optimizer=optimizer,\n",
        "              metrics=[\"mae\"])\n",
        "\n",
        "history = model.fit(trainX,\n",
        "                    trainY,\n",
        "                    epochs=100,\n",
        "                    validation_split=0.2, # Validation set sebesar 20% dari dataset\n",
        "                    callbacks=[callbacks],\n",
        "                    verbose=1)"
      ],
      "metadata": {
        "colab": {
          "base_uri": "https://localhost:8080/"
        },
        "id": "oXwaAEQYH8Jq",
        "outputId": "e4b36bb5-4581-428a-8e2c-2e51b45a797b"
      },
      "execution_count": 64,
      "outputs": [
        {
          "output_type": "stream",
          "name": "stdout",
          "text": [
            "Epoch 1/100\n",
            "261/261 [==============================] - 10s 27ms/step - loss: 0.0538 - mae: 0.3106 - val_loss: 1.2122 - val_mae: 1.6770\n",
            "Epoch 2/100\n",
            "261/261 [==============================] - 7s 25ms/step - loss: 0.0264 - mae: 0.2044 - val_loss: 1.2830 - val_mae: 1.7602\n",
            "Epoch 3/100\n",
            "261/261 [==============================] - 7s 25ms/step - loss: 0.0208 - mae: 0.1661 - val_loss: 1.3116 - val_mae: 1.7927\n",
            "Epoch 4/100\n",
            "261/261 [==============================] - 7s 25ms/step - loss: 0.0194 - mae: 0.1552 - val_loss: 1.3237 - val_mae: 1.8061\n",
            "Epoch 5/100\n",
            "261/261 [==============================] - 7s 25ms/step - loss: 0.0184 - mae: 0.1483 - val_loss: 1.3307 - val_mae: 1.8138\n",
            "Epoch 6/100\n",
            "261/261 [==============================] - 7s 25ms/step - loss: 0.0175 - mae: 0.1427 - val_loss: 1.3341 - val_mae: 1.8174\n",
            "Epoch 7/100\n",
            "261/261 [==============================] - 7s 25ms/step - loss: 0.0172 - mae: 0.1402 - val_loss: 1.3370 - val_mae: 1.8206\n",
            "Epoch 8/100\n",
            "261/261 [==============================] - 6s 25ms/step - loss: 0.0164 - mae: 0.1359 - val_loss: 1.3382 - val_mae: 1.8218\n",
            "Epoch 9/100\n",
            "261/261 [==============================] - 8s 30ms/step - loss: 0.0161 - mae: 0.1341 - val_loss: 1.3400 - val_mae: 1.8237\n",
            "Epoch 10/100\n",
            "261/261 [==============================] - 6s 25ms/step - loss: 0.0156 - mae: 0.1319 - val_loss: 1.3424 - val_mae: 1.8263\n",
            "Epoch 11/100\n",
            "261/261 [==============================] - 6s 25ms/step - loss: 0.0152 - mae: 0.1293 - val_loss: 1.3434 - val_mae: 1.8273\n",
            "Epoch 12/100\n",
            "261/261 [==============================] - 7s 25ms/step - loss: 0.0150 - mae: 0.1280 - val_loss: 1.3445 - val_mae: 1.8284\n",
            "Epoch 13/100\n",
            "261/261 [==============================] - 8s 30ms/step - loss: 0.0146 - mae: 0.1255 - val_loss: 1.3464 - val_mae: 1.8304\n",
            "Epoch 14/100\n",
            "261/261 [==============================] - 7s 25ms/step - loss: 0.0144 - mae: 0.1237 - val_loss: 1.3476 - val_mae: 1.8317\n",
            "Epoch 15/100\n",
            "261/261 [==============================] - 7s 25ms/step - loss: 0.0142 - mae: 0.1219 - val_loss: 1.3473 - val_mae: 1.8313\n",
            "Epoch 16/100\n",
            "261/261 [==============================] - 7s 26ms/step - loss: 0.0139 - mae: 0.1202 - val_loss: 1.3475 - val_mae: 1.8316\n",
            "Epoch 17/100\n",
            "261/261 [==============================] - 7s 26ms/step - loss: 0.0137 - mae: 0.1193 - val_loss: 1.3470 - val_mae: 1.8309\n",
            "Epoch 18/100\n",
            "261/261 [==============================] - 7s 26ms/step - loss: 0.0134 - mae: 0.1178 - val_loss: 1.3473 - val_mae: 1.8312\n",
            "Epoch 19/100\n",
            "261/261 [==============================] - 7s 25ms/step - loss: 0.0133 - mae: 0.1167 - val_loss: 1.3480 - val_mae: 1.8320\n",
            "Epoch 20/100\n",
            "261/261 [==============================] - 7s 26ms/step - loss: 0.0132 - mae: 0.1153 - val_loss: 1.3468 - val_mae: 1.8306\n",
            "Epoch 21/100\n",
            "261/261 [==============================] - 7s 26ms/step - loss: 0.0131 - mae: 0.1146 - val_loss: 1.3452 - val_mae: 1.8290\n",
            "Epoch 22/100\n",
            "261/261 [==============================] - 7s 25ms/step - loss: 0.0127 - mae: 0.1130 - val_loss: 1.3399 - val_mae: 1.8231\n",
            "Epoch 23/100\n",
            "261/261 [==============================] - 7s 25ms/step - loss: 0.0125 - mae: 0.1113 - val_loss: 1.3381 - val_mae: 1.8211\n",
            "Epoch 24/100\n",
            "261/261 [==============================] - 7s 26ms/step - loss: 0.0122 - mae: 0.1102 - val_loss: 1.3382 - val_mae: 1.8212\n",
            "Epoch 25/100\n",
            "261/261 [==============================] - 8s 30ms/step - loss: 0.0120 - mae: 0.1076 - val_loss: 1.3371 - val_mae: 1.8200\n",
            "Epoch 26/100\n",
            "261/261 [==============================] - 7s 25ms/step - loss: 0.0121 - mae: 0.1076 - val_loss: 1.3366 - val_mae: 1.8195\n",
            "Epoch 27/100\n",
            "261/261 [==============================] - 6s 25ms/step - loss: 0.0118 - mae: 0.1061 - val_loss: 1.3355 - val_mae: 1.8181\n",
            "Epoch 28/100\n",
            "261/261 [==============================] - 8s 29ms/step - loss: 0.0117 - mae: 0.1054 - val_loss: 1.3358 - val_mae: 1.8185\n",
            "Epoch 29/100\n",
            "261/261 [==============================] - 7s 25ms/step - loss: 0.0117 - mae: 0.1048 - val_loss: 1.3359 - val_mae: 1.8186\n",
            "Epoch 30/100\n",
            "261/261 [==============================] - 7s 25ms/step - loss: 0.0115 - mae: 0.1037 - val_loss: 1.3346 - val_mae: 1.8172\n",
            "Epoch 31/100\n",
            "261/261 [==============================] - 6s 25ms/step - loss: 0.0115 - mae: 0.1031 - val_loss: 1.3330 - val_mae: 1.8155\n",
            "Epoch 32/100\n",
            "261/261 [==============================] - 6s 25ms/step - loss: 0.0115 - mae: 0.1035 - val_loss: 1.3329 - val_mae: 1.8153\n",
            "Epoch 33/100\n",
            "261/261 [==============================] - 6s 25ms/step - loss: 0.0113 - mae: 0.1015 - val_loss: 1.3312 - val_mae: 1.8135\n",
            "Epoch 34/100\n",
            "261/261 [==============================] - 6s 25ms/step - loss: 0.0112 - mae: 0.1017 - val_loss: 1.3303 - val_mae: 1.8124\n",
            "Epoch 35/100\n",
            "261/261 [==============================] - 7s 25ms/step - loss: 0.0111 - mae: 0.1016 - val_loss: 1.3303 - val_mae: 1.8125\n",
            "Epoch 36/100\n",
            "261/261 [==============================] - 6s 25ms/step - loss: 0.0111 - mae: 0.1000 - val_loss: 1.3297 - val_mae: 1.8118\n",
            "Epoch 37/100\n",
            "259/261 [============================>.] - ETA: 0s - loss: 0.0110 - mae: 0.0997\n",
            "MAE kurang dari 10%\n",
            "261/261 [==============================] - 6s 25ms/step - loss: 0.0110 - mae: 0.0997 - val_loss: 1.3281 - val_mae: 1.8100\n"
          ]
        }
      ]
    },
    {
      "cell_type": "markdown",
      "source": [
        "Scatter plot Training dan Validation MAE"
      ],
      "metadata": {
        "id": "sBSj01fqd155"
      }
    },
    {
      "cell_type": "code",
      "source": [
        "mae = history.history['mae']\n",
        "val_mae = history.history['val_mae']\n",
        "loss = history.history['loss']\n",
        "val_loss = history.history['val_loss']\n",
        "epochs = range(len(mae))\n",
        "\n",
        "plt.plot(epochs, mae, 'r', label='Train MAE ')                \n",
        "plt.plot(epochs, val_mae, 'b', label='Valid MAE')\n",
        "plt.title('Train and Valid MAE')\n",
        "plt.legend(loc=0)\n",
        "plt.figure()                                                                      \n",
        "plt.show()\n",
        "\n",
        "plt.plot(epochs, loss, 'r', label='Train Loss ')                \n",
        "plt.plot(epochs, val_loss, 'b', label='Valid Loss')\n",
        "plt.title('Train and Valid Loss')\n",
        "plt.legend(loc=0)\n",
        "plt.figure()                                                                      \n",
        "plt.show()"
      ],
      "metadata": {
        "colab": {
          "base_uri": "https://localhost:8080/",
          "height": 582
        },
        "id": "s29lXIX3akKE",
        "outputId": "aa0f79b7-ad2b-4439-e1fc-4890889594e7"
      },
      "execution_count": 65,
      "outputs": [
        {
          "output_type": "display_data",
          "data": {
            "text/plain": [
              "<Figure size 432x288 with 1 Axes>"
            ],
            "image/png": "[encoded data removed]"
          },
          "metadata": {
            "needs_background": "light"
          }
        },
        {
          "output_type": "display_data",
          "data": {
            "text/plain": [
              "<Figure size 432x288 with 0 Axes>"
            ]
          },
          "metadata": {}
        },
        {
          "output_type": "display_data",
          "data": {
            "text/plain": [
              "<Figure size 432x288 with 1 Axes>"
            ],
            "image/png": "[encoded data removed]"
          },
          "metadata": {
            "needs_background": "light"
          }
        },
        {
          "output_type": "display_data",
          "data": {
            "text/plain": [
              "<Figure size 432x288 with 0 Axes>"
            ]
          },
          "metadata": {}
        }
      ]
    }
  ]
}